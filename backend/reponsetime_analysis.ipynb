{
 "cells": [
  {
   "cell_type": "code",
   "execution_count": 1,
   "metadata": {},
   "outputs": [],
   "source": [
    "import altair as alt\n",
    "import sqlite3\n",
    "import pandas as pd\n",
    "import numpy as np\n",
    "DATABASE = './schemas/syslog.db'"
   ]
  },
  {
   "cell_type": "code",
   "execution_count": 2,
   "metadata": {},
   "outputs": [],
   "source": [
    "conn = sqlite3.connect(DATABASE)"
   ]
  },
  {
   "cell_type": "code",
   "execution_count": 4,
   "metadata": {},
   "outputs": [],
   "source": [
    "res = conn.execute(\n",
    "    \"\"\"\n",
    "    select m.model_name, GROUP_CONCAT(p.responsetime, ',') from prediction_log p join models m on p.model_id = m.id group by m.model_name;\n",
    "    \"\"\"\n",
    ").fetchall()\n",
    "\n",
    "scores = {\n",
    "    \"desiciontree\" : 0.9601735454444321,\n",
    "    \"randomforest\" : 0.9692958059850929,\n",
    "    \"xgbooster\" : 0.9770831015685838\n",
    "}"
   ]
  },
  {
   "cell_type": "code",
   "execution_count": 38,
   "metadata": {},
   "outputs": [],
   "source": [
    "data = {\n",
    "    \"model\": [],\n",
    "    \"responsetime\" : [],\n",
    "    \"score\" : []\n",
    "}\n",
    "for i in range(len(res)):\n",
    "    name = res[i][0]\n",
    "    vals = [int(d) for d in res[i][1].split(',')]\n",
    "\n",
    "    for val in vals[:1000]:\n",
    "        data['model'].append(name)\n",
    "        data['responsetime'].append(val)\n",
    "        data['score'].append(scores[name])"
   ]
  },
  {
   "cell_type": "code",
   "execution_count": 39,
   "metadata": {},
   "outputs": [],
   "source": [
    "df = pd.DataFrame(data)\n",
    "q1 = df[df['model'] == 'desiciontree'][\"responsetime\"].quantile(0.70)\n",
    "q2 = df[df['model'] == 'randomforest'][\"responsetime\"].quantile(0.70)\n",
    "q3 = df[df['model'] == 'xgbooster'][\"responsetime\"].quantile(0.70)"
   ]
  },
  {
   "cell_type": "code",
   "execution_count": 40,
   "metadata": {},
   "outputs": [],
   "source": [
    "df = df[((df['responsetime'] < q1) & (df['model'] == 'desiciontree')) \n",
    "| ((df['responsetime'] < q2) & (df['model'] == 'randomforest')) \n",
    "| ((df['responsetime'] < q3) & (df['model'] == 'xgbooster'))]"
   ]
  },
  {
   "cell_type": "code",
   "execution_count": 50,
   "metadata": {},
   "outputs": [
    {
     "data": {
      "text/html": [
       "\n",
       "<div id=\"altair-viz-581a107533a746538069d5bc07b9ac89\"></div>\n",
       "<script type=\"text/javascript\">\n",
       "  var VEGA_DEBUG = (typeof VEGA_DEBUG == \"undefined\") ? {} : VEGA_DEBUG;\n",
       "  (function(spec, embedOpt){\n",
       "    let outputDiv = document.currentScript.previousElementSibling;\n",
       "    if (outputDiv.id !== \"altair-viz-581a107533a746538069d5bc07b9ac89\") {\n",
       "      outputDiv = document.getElementById(\"altair-viz-581a107533a746538069d5bc07b9ac89\");\n",
       "    }\n",
       "    const paths = {\n",
       "      \"vega\": \"https://cdn.jsdelivr.net/npm//vega@5?noext\",\n",
       "      \"vega-lib\": \"https://cdn.jsdelivr.net/npm//vega-lib?noext\",\n",
       "      \"vega-lite\": \"https://cdn.jsdelivr.net/npm//vega-lite@4.17.0?noext\",\n",
       "      \"vega-embed\": \"https://cdn.jsdelivr.net/npm//vega-embed@6?noext\",\n",
       "    };\n",
       "\n",
       "    function maybeLoadScript(lib, version) {\n",
       "      var key = `${lib.replace(\"-\", \"\")}_version`;\n",
       "      return (VEGA_DEBUG[key] == version) ?\n",
       "        Promise.resolve(paths[lib]) :\n",
       "        new Promise(function(resolve, reject) {\n",
       "          var s = document.createElement('script');\n",
       "          document.getElementsByTagName(\"head\")[0].appendChild(s);\n",
       "          s.async = true;\n",
       "          s.onload = () => {\n",
       "            VEGA_DEBUG[key] = version;\n",
       "            return resolve(paths[lib]);\n",
       "          };\n",
       "          s.onerror = () => reject(`Error loading script: ${paths[lib]}`);\n",
       "          s.src = paths[lib];\n",
       "        });\n",
       "    }\n",
       "\n",
       "    function showError(err) {\n",
       "      outputDiv.innerHTML = `<div class=\"error\" style=\"color:red;\">${err}</div>`;\n",
       "      throw err;\n",
       "    }\n",
       "\n",
       "    function displayChart(vegaEmbed) {\n",
       "      vegaEmbed(outputDiv, spec, embedOpt)\n",
       "        .catch(err => showError(`Javascript Error: ${err.message}<br>This usually means there's a typo in your chart specification. See the javascript console for the full traceback.`));\n",
       "    }\n",
       "\n",
       "    if(typeof define === \"function\" && define.amd) {\n",
       "      requirejs.config({paths});\n",
       "      require([\"vega-embed\"], displayChart, err => showError(`Error loading script: ${err.message}`));\n",
       "    } else {\n",
       "      maybeLoadScript(\"vega\", \"5\")\n",
       "        .then(() => maybeLoadScript(\"vega-lite\", \"4.17.0\"))\n",
       "        .then(() => maybeLoadScript(\"vega-embed\", \"6\"))\n",
       "        .catch(showError)\n",
       "        .then(() => displayChart(vegaEmbed));\n",
       "    }\n",
       "  })({\"config\": {\"view\": {\"continuousWidth\": 400, \"continuousHeight\": 300}}, \"data\": {\"name\": \"data-f481751a2f3e66b5c9892ed294b14144\"}, \"mark\": \"circle\", \"encoding\": {\"color\": {\"field\": \"model\", \"type\": \"nominal\"}, \"x\": {\"field\": \"r1_score\", \"type\": \"quantitative\"}, \"y\": {\"field\": \"avg_responsetime\", \"type\": \"quantitative\"}}, \"$schema\": \"https://vega.github.io/schema/vega-lite/v4.17.0.json\", \"datasets\": {\"data-f481751a2f3e66b5c9892ed294b14144\": [{\"model\": \"randomforest\", \"r1_score\": 0.969295806, \"avg_responsetime\": 10627.56775}, {\"model\": \"desiciontree\", \"r1_score\": 0.9601735454, \"avg_responsetime\": 278.8169054}, {\"model\": \"xgbooster\", \"r1_score\": 0.9770831016, \"avg_responsetime\": 670.0944257}]}}, {\"mode\": \"vega-lite\"});\n",
       "</script>"
      ],
      "text/plain": [
       "alt.Chart(...)"
      ]
     },
     "execution_count": 50,
     "metadata": {},
     "output_type": "execute_result"
    }
   ],
   "source": [
    "desiciontree_plt = alt.Chart(df[df['model'] == 'desiciontree']).mark_bar().encode(\n",
    "    alt.X(\"responsetime:Q\", bin = True),\n",
    "    alt.Y(\"count()\"),\n",
    "    color=\"model\"\n",
    ")\n",
    "randomforest_plt = alt.Chart(df[df['model'] == 'randomforest']).mark_bar().encode(\n",
    "    alt.X(\"responsetime:Q\", bin = True),\n",
    "    alt.Y(\"count()\"),\n",
    "    color=\"model\"\n",
    ")\n",
    "xgbooster_plt = alt.Chart(df[df['model'] == 'xgbooster']).mark_bar().encode(\n",
    "    alt.X(\"responsetime:Q\", bin = True),\n",
    "    alt.Y(\"count()\"),\n",
    "    color=\"model\"\n",
    ")\n",
    "\n",
    "responsetime = (desiciontree_plt & randomforest_plt & xgbooster_plt)\n",
    "summary = {\"model\" : [\"randomforest\",\n",
    "                    \"desiciontree\",\n",
    "                    \"xgbooster\"],\n",
    "        \"r1_score\" : [0.969295806,\n",
    "                        0.9601735454,\n",
    "                        0.9770831016],\n",
    "        \"log_avg_responsetime\" : [np.log(10627.56775),\n",
    "                            np.log(278.8169054),\n",
    "                            np.log(670.0944257)],\n",
    "}\n",
    "summary_df = pd.DataFrame(summary)\n",
    "summary_plt = alt.Chart(summary_df).mark_circle().encode(\n",
    "    alt.X(\"r1_score:Q\"),\n",
    "    alt.Y(\"avg_responsetime:Q\"),\n",
    "    color = \"model:N\"\n",
    ").\n",
    "summary_plt\n",
    "\n",
    "\n"
   ]
  },
  {
   "cell_type": "code",
   "execution_count": null,
   "metadata": {},
   "outputs": [],
   "source": []
  }
 ],
 "metadata": {
  "interpreter": {
   "hash": "9fc2fd379e8935264b29e870f103ba510f2420c9975fe84517ec31b6d667dcb9"
  },
  "kernelspec": {
   "display_name": "Python 3.8.11 ('fraud-apis-yRYuGhqM-py3.8')",
   "language": "python",
   "name": "python3"
  },
  "language_info": {
   "codemirror_mode": {
    "name": "ipython",
    "version": 3
   },
   "file_extension": ".py",
   "mimetype": "text/x-python",
   "name": "python",
   "nbconvert_exporter": "python",
   "pygments_lexer": "ipython3",
   "version": "3.8.11"
  },
  "orig_nbformat": 4
 },
 "nbformat": 4,
 "nbformat_minor": 2
}
