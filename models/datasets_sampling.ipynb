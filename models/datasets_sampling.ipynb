{
  "nbformat": 4,
  "nbformat_minor": 0,
  "metadata": {
    "colab": {
      "name": "datasets sampling.ipynb",
      "provenance": [],
      "authorship_tag": "ABX9TyPJyELfXwXKaN4M9I06m4Sc",
      "include_colab_link": true
    },
    "kernelspec": {
      "name": "python3",
      "display_name": "Python 3"
    },
    "language_info": {
      "name": "python"
    }
  },
  "cells": [
    {
      "cell_type": "markdown",
      "metadata": {
        "id": "view-in-github",
        "colab_type": "text"
      },
      "source": [
        "<a href=\"https://colab.research.google.com/github/liuzheqi0723/capstone-fraud-detection/blob/main/models/datasets_sampling.ipynb\" target=\"_parent\"><img src=\"https://colab.research.google.com/assets/colab-badge.svg\" alt=\"Open In Colab\"/></a>"
      ]
    },
    {
      "cell_type": "markdown",
      "source": [
        "Sampling dataset and upload them to Github</br>\n",
        "as required.\n"
      ],
      "metadata": {
        "id": "RSfSIhek9NRz"
      }
    },
    {
      "cell_type": "code",
      "source": [
        "import numpy as np\n",
        "import pandas as pd"
      ],
      "metadata": {
        "id": "2KpwhAsB9X9b"
      },
      "execution_count": 1,
      "outputs": []
    },
    {
      "cell_type": "code",
      "source": [
        "from google.colab import drive\n",
        "drive.mount('/content/drive')"
      ],
      "metadata": {
        "colab": {
          "base_uri": "https://localhost:8080/"
        },
        "id": "2NSGPDOg9gJc",
        "outputId": "842d9d30-cf90-4adc-e40b-a40cba5fb2b3"
      },
      "execution_count": 2,
      "outputs": [
        {
          "output_type": "stream",
          "name": "stdout",
          "text": [
            "Mounted at /content/drive\n"
          ]
        }
      ]
    },
    {
      "cell_type": "code",
      "source": [
        "path_train_id = \"/content/drive/MyDrive/Capstone/Data/train_identity.csv\"\n",
        "raw_train_id = pd.read_csv(path_train_id)\n",
        "\n",
        "path_train_trans = \"/content/drive/MyDrive/Capstone/Data/train_transaction.csv\"\n",
        "raw_train_trans = pd.read_csv(path_train_trans)\n",
        "\n",
        "raw_train_id.shape"
      ],
      "metadata": {
        "colab": {
          "base_uri": "https://localhost:8080/"
        },
        "id": "VsvcsX-G9i0-",
        "outputId": "8e1e46be-c1bf-49bd-d752-994702811864"
      },
      "execution_count": 3,
      "outputs": [
        {
          "output_type": "execute_result",
          "data": {
            "text/plain": [
              "(144233, 41)"
            ]
          },
          "metadata": {},
          "execution_count": 3
        }
      ]
    },
    {
      "cell_type": "code",
      "source": [
        "identity_sample = raw_train_id.sample(frac=0.05, random_state=697)\n",
        "transaction_sample = raw_train_trans.sample(frac=0.05, random_state=697)"
      ],
      "metadata": {
        "id": "YDe7vbbG992y"
      },
      "execution_count": 6,
      "outputs": []
    },
    {
      "cell_type": "code",
      "source": [
        "identity_sample.shape"
      ],
      "metadata": {
        "colab": {
          "base_uri": "https://localhost:8080/"
        },
        "id": "8dfVTNrr-W35",
        "outputId": "e7ea1c19-a826-4744-d12d-05f202530067"
      },
      "execution_count": 7,
      "outputs": [
        {
          "output_type": "execute_result",
          "data": {
            "text/plain": [
              "(7212, 41)"
            ]
          },
          "metadata": {},
          "execution_count": 7
        }
      ]
    },
    {
      "cell_type": "code",
      "source": [
        "identity_sample.to_csv('identity_sample.csv')\n",
        "!cp identity_sample.csv \"drive/MyDrive/Capstone/Data/\"\n",
        "\n",
        "transaction_sample.to_csv('transaction_sample.csv')\n",
        "!cp transaction_sample.csv \"drive/MyDrive/Capstone/Data/\""
      ],
      "metadata": {
        "id": "8Dts_qAv9ou_"
      },
      "execution_count": 8,
      "outputs": []
    },
    {
      "cell_type": "code",
      "source": [
        ""
      ],
      "metadata": {
        "id": "PSXGXShf-gAl"
      },
      "execution_count": null,
      "outputs": []
    }
  ]
}