{
  "nbformat": 4,
  "nbformat_minor": 0,
  "metadata": {
    "colab": {
      "name": "1_Datasets Understanding & Clean.ipynb",
      "provenance": [],
      "collapsed_sections": [],
      "toc_visible": true,
      "include_colab_link": true
    },
    "kernelspec": {
      "name": "python3",
      "display_name": "Python 3"
    },
    "language_info": {
      "name": "python"
    }
  },
  "cells": [
    {
      "cell_type": "markdown",
      "metadata": {
        "id": "view-in-github",
        "colab_type": "text"
      },
      "source": [
        "<a href=\"https://colab.research.google.com/github/liuzheqi0723/capstone-fraud-detection/blob/YaoW/models/1_Datasets_Understanding_%26_Clean.ipynb\" target=\"_parent\"><img src=\"https://colab.research.google.com/assets/colab-badge.svg\" alt=\"Open In Colab\"/></a>"
      ]
    },
    {
      "cell_type": "markdown",
      "source": [
        "# **Application for real-time fraudulent transaction detection**\n"
      ],
      "metadata": {
        "id": "w4em1g789yOa"
      }
    },
    {
      "cell_type": "markdown",
      "source": [
        "#### Loading Datasets"
      ],
      "metadata": {
        "id": "6rsGGpNd-OSG"
      }
    },
    {
      "cell_type": "markdown",
      "source": [
        "Paths to the Datasets: <br>\n",
        "  [link to Kaggle](https://www.kaggle.com/c/ieee-fraud-detection/data)<br>\n",
        "  [link to Google Drive](https://drive.google.com/drive/folders/1_h09YxVU0BH4KgUy9su49zo3XX59oZ3d)<br>\n",
        "  [link to Sample Datasets on Github](https://github.com/liuzheqi0723/capstone-fraud-detection/tree/main/assets)\n"
      ],
      "metadata": {
        "id": "5ZPd6Zn7-kHx"
      }
    },
    {
      "cell_type": "code",
      "execution_count": 1,
      "metadata": {
        "id": "HaFWatOcEjjf"
      },
      "outputs": [],
      "source": [
        "### import libraries ###\n",
        "\n",
        "import numpy as np\n",
        "import pandas as pd\n",
        "\n",
        "import matplotlib.pyplot as plt\n",
        "import seaborn as sns\n",
        "%matplotlib inline"
      ]
    },
    {
      "cell_type": "markdown",
      "source": [
        "##### A. Loading datasets from Google Drive\n",
        "If you are running on Google Colab, and want to load datasets from Google Drive, using the following 2 cells."
      ],
      "metadata": {
        "id": "6ce1LISpNx-g"
      }
    },
    {
      "cell_type": "code",
      "source": [
        "## If you are running this code using Google Colab,\n",
        "## Run it if it is the first time you running this notebook.\n",
        "\n",
        "# Mount your google drive to colab\n",
        "from google.colab import drive\n",
        "drive.mount('/content/drive')"
      ],
      "metadata": {
        "id": "11kiQgWzG1NC",
        "colab": {
          "base_uri": "https://localhost:8080/"
        },
        "outputId": "1dfbbf6a-110f-4060-a698-887d284bc44d"
      },
      "execution_count": 2,
      "outputs": [
        {
          "output_type": "stream",
          "name": "stdout",
          "text": [
            "Drive already mounted at /content/drive; to attempt to forcibly remount, call drive.mount(\"/content/drive\", force_remount=True).\n"
          ]
        }
      ]
    },
    {
      "cell_type": "code",
      "source": [
        "# If you are loading the data from Google Drive, \n",
        "# Please create a shortcut for the 'Capstone' folder from shared drive to your own Googledrive.\n",
        "\n",
        "path_train_id = \"/content/drive/MyDrive/Capstone/Data/train_identity.csv\"\n",
        "raw_train_id = pd.read_csv(path_train_id)\n",
        "raw_train_id.name = 'raw_train_id'\n",
        "# raw_train_id.head()\n",
        "\n",
        "path_train_trans = \"/content/drive/MyDrive/Capstone/Data/train_transaction.csv\"\n",
        "raw_train_trans = pd.read_csv(path_train_trans)\n",
        "raw_train_trans.name = 'raw_train_trans'\n",
        "# raw_train_trans.head()\n",
        "\n",
        "# Dataset is now stored in a Pandas Dataframe"
      ],
      "metadata": {
        "id": "My_XMcCxIcf4"
      },
      "execution_count": 3,
      "outputs": []
    },
    {
      "cell_type": "markdown",
      "source": [
        "##### B. Loading datasets from local drive.\n",
        "Please comment out the code in the previous cells </br>\n",
        "and use the code below to load the datasets from your local drive."
      ],
      "metadata": {
        "id": "XqyjODxgOTk-"
      }
    },
    {
      "cell_type": "code",
      "source": [
        "# path_train_id = \"\" # paste the path here.\n",
        "# raw_train_id = pd.read_csv(path_train_id)\n",
        "# raw_train_id.name = 'raw_train_id'\n",
        "# # raw_train_id.head()\n",
        "\n",
        "# path_train_trans = \"\" # paste the path here.\n",
        "# raw_train_trans = pd.read_csv(path_train_trans)\n",
        "# raw_train_trans.name = 'raw_train_trans'\n",
        "# # raw_train_trans.head()\n",
        "\n",
        "# # Dataset is now stored in a Pandas Dataframe"
      ],
      "metadata": {
        "id": "mkyd_XhZOvr5"
      },
      "execution_count": 4,
      "outputs": []
    },
    {
      "cell_type": "markdown",
      "source": [
        "### Understanding the raw data"
      ],
      "metadata": {
        "id": "ChFJQE3QQIp0"
      }
    },
    {
      "cell_type": "markdown",
      "source": [
        "#### Define functions to decribe DataFrame."
      ],
      "metadata": {
        "id": "LXXSjq8bjF-Z"
      }
    },
    {
      "cell_type": "code",
      "source": [
        "# define functions used in the func 'df_description' in the next cell.\n",
        "from pandas.core.frame import DataFrame\n",
        "\n",
        "def null_info(df, axis=0):\n",
        "    '''\n",
        "    Return a DataFrame describes the Nans in df.\n",
        "    df: DataFrame\n",
        "     '''\n",
        "\n",
        "    df_null = df.isnull().sum(axis=axis).to_frame()\n",
        "    df_null.rename(columns={0: '#_Nans'}, inplace=True)\n",
        "    if axis==0:\n",
        "        num_total = df.shape[0]\n",
        "    else:\n",
        "        num_total = df.shape[1]\n",
        "\n",
        "    df_null['%_Nans'] = round(df_null['#_Nans']/num_total*100, 2)\n",
        "    df_null['#_Nans'] = df_null['#_Nans'].astype('int')\n",
        "\n",
        "    return df_null\n",
        "\n",
        "\n",
        "\n",
        "def dtype_info(df):\n",
        "    '''\n",
        "    Return a DataFrame describes the data type in df.\n",
        "    df: DataFrame\n",
        "    '''\n",
        "\n",
        "    df_type = df.dtypes.to_frame()\n",
        "    df_type.rename(columns={0: 'data_type'}, inplace=True)\n",
        "    \n",
        "    return df_type\n",
        "\n",
        "\n",
        "\n",
        "def cols_info_df(df):\n",
        "    '''\n",
        "    Join the returns of func null_info() and dtype_info()\n",
        "    Return a DataFrame describes the cols in df.\n",
        "    df: DataFrame\n",
        "    '''\n",
        "    # generate decribing dfs using funcs defined above\n",
        "    df_null = null_info(df) \n",
        "    df_type = dtype_info(df)\n",
        "\n",
        "    # merge the decription dfs\n",
        "    cols_info_df = df_null.merge(df_type, left_index=True, right_index=True,)  \n",
        "    \n",
        "    return cols_info_df\n",
        "\n"
      ],
      "metadata": {
        "id": "ksGFrxnsMnVB"
      },
      "execution_count": 5,
      "outputs": []
    },
    {
      "cell_type": "code",
      "source": [
        "import missingno as msno\n",
        "\n",
        "def df_description(df):\n",
        "    '''\n",
        "    Return basic info for the input df.\n",
        "    df: DataFrame\n",
        "    '''\n",
        "    # print basic info\n",
        "    print('For the DataFrame {}:\\n'.format(df.name))\n",
        "    print('The shape is: {}\\n'.format(df.shape))\n",
        "\n",
        "    # print cols info\n",
        "    df_cols_info = cols_info_df(df) # func defined above\n",
        "    print(df_cols_info,'\\n')\n",
        "\n",
        "    # if the number of cols is less than 50, print a graph describe the Nans.\n",
        "    if len(df.columns)<50:\n",
        "        print('The distribution of Nans:\\n')\n",
        "        msno.matrix(df)    # create a graph.\n",
        "\n",
        "    return"
      ],
      "metadata": {
        "id": "cj5FAsWEk07A"
      },
      "execution_count": 6,
      "outputs": []
    },
    {
      "cell_type": "code",
      "source": [
        "def bin_chart(series, x_label:str, y_label:str):\n",
        "    '''\n",
        "    Plot a bin chart to show the %.\n",
        "    '''\n",
        "\n",
        "    n, bins, patches = plt.hist(series, 20, range=[0, 100], alpha=0.6)\n",
        "\n",
        "    plt.xlabel(x_label)\n",
        "    plt.ylabel(y_label)\n",
        "\n",
        "\n",
        "    plt.show()"
      ],
      "metadata": {
        "id": "uceqBP5XXuUq"
      },
      "execution_count": 7,
      "outputs": []
    },
    {
      "cell_type": "markdown",
      "source": [
        "#### Describe the datasets"
      ],
      "metadata": {
        "id": "HuHdezaWJVvU"
      }
    },
    {
      "cell_type": "markdown",
      "source": [
        "**train_identity.csv**<br>\n",
        ">Variables in this table are identity information:<br>\n",
        "network connection information (IP, ISP, Proxy, etc) and <br>\n",
        "digital signature (UA/browser/os/version, etc) associated with transactions.<br> The field names are masked and pairwise dictionary will not be provided for privacy protection and contract agreement.<br>"
      ],
      "metadata": {
        "id": "7p42BUBGKpn2"
      }
    },
    {
      "cell_type": "code",
      "source": [
        "# take a look at sample data from 'raw_train_id'\n",
        "raw_train_id.sample(5)"
      ],
      "metadata": {
        "colab": {
          "base_uri": "https://localhost:8080/",
          "height": 421
        },
        "id": "DS5oVqLOqEdA",
        "outputId": "e13363a2-ca4f-4830-9a0f-b984fd2166e9"
      },
      "execution_count": 8,
      "outputs": [
        {
          "output_type": "execute_result",
          "data": {
            "text/plain": [
              "        TransactionID  id_01     id_02  id_03  id_04  id_05  id_06  id_07  \\\n",
              "107589        3390704  -20.0  194276.0    NaN    NaN  -12.0  -34.0    NaN   \n",
              "124664        3484007    0.0   89873.0    0.0    0.0    0.0    0.0    NaN   \n",
              "112332        3414800  -15.0       NaN    NaN    NaN    NaN    NaN    NaN   \n",
              "40262         3084703   -5.0   48817.0    0.0    0.0    0.0    0.0    NaN   \n",
              "136977        3543094   -5.0  440198.0    0.0    0.0    0.0    0.0    NaN   \n",
              "\n",
              "        id_08  id_09  ...                  id_31  id_32      id_33  \\\n",
              "107589    NaN    NaN  ...  mobile safari generic    NaN        NaN   \n",
              "124664    NaN    0.0  ...  mobile safari generic   32.0  2208x1242   \n",
              "112332    NaN    NaN  ...                    NaN    NaN        NaN   \n",
              "40262     NaN    0.0  ...     mobile safari 11.0   32.0   1334x750   \n",
              "136977    NaN    0.0  ...            chrome 66.0    NaN        NaN   \n",
              "\n",
              "                 id_34  id_35 id_36 id_37  id_38  DeviceType  DeviceInfo  \n",
              "107589             NaN      F     F     F      F      mobile         NaN  \n",
              "124664  match_status:1      T     F     T      T      mobile  iOS Device  \n",
              "112332             NaN    NaN   NaN   NaN    NaN         NaN         NaN  \n",
              "40262   match_status:1      T     F     F      T      mobile  iOS Device  \n",
              "136977             NaN      F     F     T      F     desktop     Windows  \n",
              "\n",
              "[5 rows x 41 columns]"
            ],
            "text/html": [
              "\n",
              "  <div id=\"df-ae4c777f-a7ff-48bc-ac36-7d15613376a6\">\n",
              "    <div class=\"colab-df-container\">\n",
              "      <div>\n",
              "<style scoped>\n",
              "    .dataframe tbody tr th:only-of-type {\n",
              "        vertical-align: middle;\n",
              "    }\n",
              "\n",
              "    .dataframe tbody tr th {\n",
              "        vertical-align: top;\n",
              "    }\n",
              "\n",
              "    .dataframe thead th {\n",
              "        text-align: right;\n",
              "    }\n",
              "</style>\n",
              "<table border=\"1\" class=\"dataframe\">\n",
              "  <thead>\n",
              "    <tr style=\"text-align: right;\">\n",
              "      <th></th>\n",
              "      <th>TransactionID</th>\n",
              "      <th>id_01</th>\n",
              "      <th>id_02</th>\n",
              "      <th>id_03</th>\n",
              "      <th>id_04</th>\n",
              "      <th>id_05</th>\n",
              "      <th>id_06</th>\n",
              "      <th>id_07</th>\n",
              "      <th>id_08</th>\n",
              "      <th>id_09</th>\n",
              "      <th>...</th>\n",
              "      <th>id_31</th>\n",
              "      <th>id_32</th>\n",
              "      <th>id_33</th>\n",
              "      <th>id_34</th>\n",
              "      <th>id_35</th>\n",
              "      <th>id_36</th>\n",
              "      <th>id_37</th>\n",
              "      <th>id_38</th>\n",
              "      <th>DeviceType</th>\n",
              "      <th>DeviceInfo</th>\n",
              "    </tr>\n",
              "  </thead>\n",
              "  <tbody>\n",
              "    <tr>\n",
              "      <th>107589</th>\n",
              "      <td>3390704</td>\n",
              "      <td>-20.0</td>\n",
              "      <td>194276.0</td>\n",
              "      <td>NaN</td>\n",
              "      <td>NaN</td>\n",
              "      <td>-12.0</td>\n",
              "      <td>-34.0</td>\n",
              "      <td>NaN</td>\n",
              "      <td>NaN</td>\n",
              "      <td>NaN</td>\n",
              "      <td>...</td>\n",
              "      <td>mobile safari generic</td>\n",
              "      <td>NaN</td>\n",
              "      <td>NaN</td>\n",
              "      <td>NaN</td>\n",
              "      <td>F</td>\n",
              "      <td>F</td>\n",
              "      <td>F</td>\n",
              "      <td>F</td>\n",
              "      <td>mobile</td>\n",
              "      <td>NaN</td>\n",
              "    </tr>\n",
              "    <tr>\n",
              "      <th>124664</th>\n",
              "      <td>3484007</td>\n",
              "      <td>0.0</td>\n",
              "      <td>89873.0</td>\n",
              "      <td>0.0</td>\n",
              "      <td>0.0</td>\n",
              "      <td>0.0</td>\n",
              "      <td>0.0</td>\n",
              "      <td>NaN</td>\n",
              "      <td>NaN</td>\n",
              "      <td>0.0</td>\n",
              "      <td>...</td>\n",
              "      <td>mobile safari generic</td>\n",
              "      <td>32.0</td>\n",
              "      <td>2208x1242</td>\n",
              "      <td>match_status:1</td>\n",
              "      <td>T</td>\n",
              "      <td>F</td>\n",
              "      <td>T</td>\n",
              "      <td>T</td>\n",
              "      <td>mobile</td>\n",
              "      <td>iOS Device</td>\n",
              "    </tr>\n",
              "    <tr>\n",
              "      <th>112332</th>\n",
              "      <td>3414800</td>\n",
              "      <td>-15.0</td>\n",
              "      <td>NaN</td>\n",
              "      <td>NaN</td>\n",
              "      <td>NaN</td>\n",
              "      <td>NaN</td>\n",
              "      <td>NaN</td>\n",
              "      <td>NaN</td>\n",
              "      <td>NaN</td>\n",
              "      <td>NaN</td>\n",
              "      <td>...</td>\n",
              "      <td>NaN</td>\n",
              "      <td>NaN</td>\n",
              "      <td>NaN</td>\n",
              "      <td>NaN</td>\n",
              "      <td>NaN</td>\n",
              "      <td>NaN</td>\n",
              "      <td>NaN</td>\n",
              "      <td>NaN</td>\n",
              "      <td>NaN</td>\n",
              "      <td>NaN</td>\n",
              "    </tr>\n",
              "    <tr>\n",
              "      <th>40262</th>\n",
              "      <td>3084703</td>\n",
              "      <td>-5.0</td>\n",
              "      <td>48817.0</td>\n",
              "      <td>0.0</td>\n",
              "      <td>0.0</td>\n",
              "      <td>0.0</td>\n",
              "      <td>0.0</td>\n",
              "      <td>NaN</td>\n",
              "      <td>NaN</td>\n",
              "      <td>0.0</td>\n",
              "      <td>...</td>\n",
              "      <td>mobile safari 11.0</td>\n",
              "      <td>32.0</td>\n",
              "      <td>1334x750</td>\n",
              "      <td>match_status:1</td>\n",
              "      <td>T</td>\n",
              "      <td>F</td>\n",
              "      <td>F</td>\n",
              "      <td>T</td>\n",
              "      <td>mobile</td>\n",
              "      <td>iOS Device</td>\n",
              "    </tr>\n",
              "    <tr>\n",
              "      <th>136977</th>\n",
              "      <td>3543094</td>\n",
              "      <td>-5.0</td>\n",
              "      <td>440198.0</td>\n",
              "      <td>0.0</td>\n",
              "      <td>0.0</td>\n",
              "      <td>0.0</td>\n",
              "      <td>0.0</td>\n",
              "      <td>NaN</td>\n",
              "      <td>NaN</td>\n",
              "      <td>0.0</td>\n",
              "      <td>...</td>\n",
              "      <td>chrome 66.0</td>\n",
              "      <td>NaN</td>\n",
              "      <td>NaN</td>\n",
              "      <td>NaN</td>\n",
              "      <td>F</td>\n",
              "      <td>F</td>\n",
              "      <td>T</td>\n",
              "      <td>F</td>\n",
              "      <td>desktop</td>\n",
              "      <td>Windows</td>\n",
              "    </tr>\n",
              "  </tbody>\n",
              "</table>\n",
              "<p>5 rows × 41 columns</p>\n",
              "</div>\n",
              "      <button class=\"colab-df-convert\" onclick=\"convertToInteractive('df-ae4c777f-a7ff-48bc-ac36-7d15613376a6')\"\n",
              "              title=\"Convert this dataframe to an interactive table.\"\n",
              "              style=\"display:none;\">\n",
              "        \n",
              "  <svg xmlns=\"http://www.w3.org/2000/svg\" height=\"24px\"viewBox=\"0 0 24 24\"\n",
              "       width=\"24px\">\n",
              "    <path d=\"M0 0h24v24H0V0z\" fill=\"none\"/>\n",
              "    <path d=\"M18.56 5.44l.94 2.06.94-2.06 2.06-.94-2.06-.94-.94-2.06-.94 2.06-2.06.94zm-11 1L8.5 8.5l.94-2.06 2.06-.94-2.06-.94L8.5 2.5l-.94 2.06-2.06.94zm10 10l.94 2.06.94-2.06 2.06-.94-2.06-.94-.94-2.06-.94 2.06-2.06.94z\"/><path d=\"M17.41 7.96l-1.37-1.37c-.4-.4-.92-.59-1.43-.59-.52 0-1.04.2-1.43.59L10.3 9.45l-7.72 7.72c-.78.78-.78 2.05 0 2.83L4 21.41c.39.39.9.59 1.41.59.51 0 1.02-.2 1.41-.59l7.78-7.78 2.81-2.81c.8-.78.8-2.07 0-2.86zM5.41 20L4 18.59l7.72-7.72 1.47 1.35L5.41 20z\"/>\n",
              "  </svg>\n",
              "      </button>\n",
              "      \n",
              "  <style>\n",
              "    .colab-df-container {\n",
              "      display:flex;\n",
              "      flex-wrap:wrap;\n",
              "      gap: 12px;\n",
              "    }\n",
              "\n",
              "    .colab-df-convert {\n",
              "      background-color: #E8F0FE;\n",
              "      border: none;\n",
              "      border-radius: 50%;\n",
              "      cursor: pointer;\n",
              "      display: none;\n",
              "      fill: #1967D2;\n",
              "      height: 32px;\n",
              "      padding: 0 0 0 0;\n",
              "      width: 32px;\n",
              "    }\n",
              "\n",
              "    .colab-df-convert:hover {\n",
              "      background-color: #E2EBFA;\n",
              "      box-shadow: 0px 1px 2px rgba(60, 64, 67, 0.3), 0px 1px 3px 1px rgba(60, 64, 67, 0.15);\n",
              "      fill: #174EA6;\n",
              "    }\n",
              "\n",
              "    [theme=dark] .colab-df-convert {\n",
              "      background-color: #3B4455;\n",
              "      fill: #D2E3FC;\n",
              "    }\n",
              "\n",
              "    [theme=dark] .colab-df-convert:hover {\n",
              "      background-color: #434B5C;\n",
              "      box-shadow: 0px 1px 3px 1px rgba(0, 0, 0, 0.15);\n",
              "      filter: drop-shadow(0px 1px 2px rgba(0, 0, 0, 0.3));\n",
              "      fill: #FFFFFF;\n",
              "    }\n",
              "  </style>\n",
              "\n",
              "      <script>\n",
              "        const buttonEl =\n",
              "          document.querySelector('#df-ae4c777f-a7ff-48bc-ac36-7d15613376a6 button.colab-df-convert');\n",
              "        buttonEl.style.display =\n",
              "          google.colab.kernel.accessAllowed ? 'block' : 'none';\n",
              "\n",
              "        async function convertToInteractive(key) {\n",
              "          const element = document.querySelector('#df-ae4c777f-a7ff-48bc-ac36-7d15613376a6');\n",
              "          const dataTable =\n",
              "            await google.colab.kernel.invokeFunction('convertToInteractive',\n",
              "                                                     [key], {});\n",
              "          if (!dataTable) return;\n",
              "\n",
              "          const docLinkHtml = 'Like what you see? Visit the ' +\n",
              "            '<a target=\"_blank\" href=https://colab.research.google.com/notebooks/data_table.ipynb>data table notebook</a>'\n",
              "            + ' to learn more about interactive tables.';\n",
              "          element.innerHTML = '';\n",
              "          dataTable['output_type'] = 'display_data';\n",
              "          await google.colab.output.renderOutput(dataTable, element);\n",
              "          const docLink = document.createElement('div');\n",
              "          docLink.innerHTML = docLinkHtml;\n",
              "          element.appendChild(docLink);\n",
              "        }\n",
              "      </script>\n",
              "    </div>\n",
              "  </div>\n",
              "  "
            ]
          },
          "metadata": {},
          "execution_count": 8
        }
      ]
    },
    {
      "cell_type": "code",
      "source": [
        "# use funcs defined in fomer cells to describe the dataset.\n",
        "df_description(raw_train_id)"
      ],
      "metadata": {
        "colab": {
          "base_uri": "https://localhost:8080/",
          "height": 1000
        },
        "id": "wDl5eyEhniYO",
        "outputId": "ff76b924-0e7a-4ff4-bbfd-e67ac5402210"
      },
      "execution_count": 9,
      "outputs": [
        {
          "output_type": "stream",
          "name": "stdout",
          "text": [
            "For the DataFrame raw_train_id:\n",
            "\n",
            "The shape is: (144233, 41)\n",
            "\n",
            "               #_Nans  %_Nans data_type\n",
            "TransactionID       0    0.00     int64\n",
            "id_01               0    0.00   float64\n",
            "id_02            3361    2.33   float64\n",
            "id_03           77909   54.02   float64\n",
            "id_04           77909   54.02   float64\n",
            "id_05            7368    5.11   float64\n",
            "id_06            7368    5.11   float64\n",
            "id_07          139078   96.43   float64\n",
            "id_08          139078   96.43   float64\n",
            "id_09           69307   48.05   float64\n",
            "id_10           69307   48.05   float64\n",
            "id_11            3255    2.26   float64\n",
            "id_12               0    0.00    object\n",
            "id_13           16913   11.73   float64\n",
            "id_14           64189   44.50   float64\n",
            "id_15            3248    2.25    object\n",
            "id_16           14893   10.33    object\n",
            "id_17            4864    3.37   float64\n",
            "id_18           99120   68.72   float64\n",
            "id_19            4915    3.41   float64\n",
            "id_20            4972    3.45   float64\n",
            "id_21          139074   96.42   float64\n",
            "id_22          139064   96.42   float64\n",
            "id_23          139064   96.42    object\n",
            "id_24          139486   96.71   float64\n",
            "id_25          139101   96.44   float64\n",
            "id_26          139070   96.42   float64\n",
            "id_27          139064   96.42    object\n",
            "id_28            3255    2.26    object\n",
            "id_29            3255    2.26    object\n",
            "id_30           66668   46.22    object\n",
            "id_31            3951    2.74    object\n",
            "id_32           66647   46.21   float64\n",
            "id_33           70944   49.19    object\n",
            "id_34           66428   46.06    object\n",
            "id_35            3248    2.25    object\n",
            "id_36            3248    2.25    object\n",
            "id_37            3248    2.25    object\n",
            "id_38            3248    2.25    object\n",
            "DeviceType       3423    2.37    object\n",
            "DeviceInfo      25567   17.73    object \n",
            "\n",
            "The distribution of Nans:\n",
            "\n"
          ]
        },
        {
          "output_type": "display_data",
          "data": {
            "text/plain": [
              "<Figure size 1800x720 with 2 Axes>"
            ],
            "image/png": "[encoded data removed]"
          },
          "metadata": {
            "needs_background": "light"
          }
        }
      ]
    },
    {
      "cell_type": "code",
      "source": [
        "# density of Nans in cols\n",
        "bin_chart(cols_info_df(raw_train_id)['%_Nans'], 'XX% of the values in the column are Nans', '# of cols')"
      ],
      "metadata": {
        "colab": {
          "base_uri": "https://localhost:8080/",
          "height": 279
        },
        "id": "ZC45RKWaTgVm",
        "outputId": "9c2dc1de-a876-49aa-e29b-1534129901f3"
      },
      "execution_count": 10,
      "outputs": [
        {
          "output_type": "display_data",
          "data": {
            "text/plain": [
              "<Figure size 432x288 with 1 Axes>"
            ],
            "image/png": "[encoded data removed]"
          },
          "metadata": {
            "needs_background": "light"
          }
        }
      ]
    },
    {
      "cell_type": "markdown",
      "source": [
        "**train_transaction.csv**\n",
        "\n",
        "\n",
        ">All Vesta features were derived as numerical. some of them are count of orders within a clustering, a time-period or condition, so the value is finite and has ordering (or ranking). I wouldn't recommend to treat any of them as categorical. If any of them resulted in binary by chance, it maybe worth trying.\n",
        "\n",
        "`TransactionDT`: timedelta from a given reference datetime (not an actual timestamp)<br>\n",
        "  TransactionDT first value is 86400, which corresponds to the number of seconds in a day (60 * 60 * 24 = 86400) so I think the unit is seconds. Using this, we know the data spans 6 months, as the maximum value is 15811131, which would correspond to day 183.\n",
        "\n",
        "`TransactionAMT`: transaction payment amount in USD.<br>\n",
        "  Some of the transaction amounts have three decimal places to the right of the decimal point. There seems to be a link to three decimal places and a blank addr1 and addr2 field. Is it possible that these are foreign transactions and that, for example, the 75.887 in row 12 is the result of multiplying a foreign currency amount by an exchange rate?\n",
        "\n",
        "`ProductCD`: product code, the product for each transaction.<br>\n",
        "  Product isn't necessary to be a real 'product' (like one item to be added to the shopping cart). It could be any kind of service.\n",
        "\n",
        "`card1` - `card6`: payment card information.<br>\n",
        "  Such as card type, card category, issue bank, country, etc.\n",
        "\n",
        "`addr`: both addresses are for purchaser.<br>\n",
        "  addr1 as billing region.<br>\n",
        "  addr2 as billing country.<br>\n",
        "\n",
        "`dist`: distances between (not limited) billing address, mailing address, zip code, IP address, phone area, etc.\n",
        "\n",
        "`P_` and `(R__) emaildomain`: purchaser and recipient email domain\n",
        "“ certain transactions don't need recipient, so R_emaildomain is null.”\n",
        "\n",
        "`C1`-`C14`: counting, such as how many addresses are found to be associated with the payment card, etc. The actual meaning is masked.\n",
        "\n",
        "`D1`-`D15`: timedelta, such as days between previous transaction, etc.\n",
        "\n",
        "`M1`-`M9`: match, such as names on card and address, etc.\n",
        "\n",
        "`Vxxx`: Vesta engineered rich features, including ranking, counting, and other entity relations.<br>\n",
        "  For example, how many times the payment card associated with a IP and email or address appeared in 24 hours time range, etc.\n",
        "\n"
      ],
      "metadata": {
        "id": "Y1NASy0GOf5x"
      }
    },
    {
      "cell_type": "code",
      "source": [
        "# take a look at sample data from 'raw_train_trans'\n",
        "raw_train_trans.sample(5)"
      ],
      "metadata": {
        "colab": {
          "base_uri": "https://localhost:8080/",
          "height": 299
        },
        "id": "3_9ssw82RVHK",
        "outputId": "b692777d-dddf-4836-ed98-3f124e849bba"
      },
      "execution_count": 11,
      "outputs": [
        {
          "output_type": "execute_result",
          "data": {
            "text/plain": [
              "        TransactionID  isFraud  TransactionDT  TransactionAmt ProductCD  \\\n",
              "238046        3225046        0        5614215           25.95         W   \n",
              "490313        3477313        0       12782160           59.00         W   \n",
              "343959        3330959        0        8471987          226.00         W   \n",
              "21834         3008834        0         576560           46.50         W   \n",
              "224972        3211972        0        5323650          117.00         W   \n",
              "\n",
              "        card1  card2  card3       card4  card5  ... V330  V331  V332  V333  \\\n",
              "238046   7919  194.0  150.0  mastercard  202.0  ...  NaN   NaN   NaN   NaN   \n",
              "490313  16085  297.0  150.0        visa  166.0  ...  NaN   NaN   NaN   NaN   \n",
              "343959   7585  553.0  150.0        visa  226.0  ...  NaN   NaN   NaN   NaN   \n",
              "21834   10486  514.0  150.0  mastercard  219.0  ...  NaN   NaN   NaN   NaN   \n",
              "224972  12556  514.0  150.0  mastercard  224.0  ...  NaN   NaN   NaN   NaN   \n",
              "\n",
              "        V334 V335 V336  V337  V338  V339  \n",
              "238046   NaN  NaN  NaN   NaN   NaN   NaN  \n",
              "490313   NaN  NaN  NaN   NaN   NaN   NaN  \n",
              "343959   NaN  NaN  NaN   NaN   NaN   NaN  \n",
              "21834    NaN  NaN  NaN   NaN   NaN   NaN  \n",
              "224972   NaN  NaN  NaN   NaN   NaN   NaN  \n",
              "\n",
              "[5 rows x 394 columns]"
            ],
            "text/html": [
              "\n",
              "  <div id=\"df-ee4e72f7-6db2-41b0-92dc-cdcee39eac39\">\n",
              "    <div class=\"colab-df-container\">\n",
              "      <div>\n",
              "<style scoped>\n",
              "    .dataframe tbody tr th:only-of-type {\n",
              "        vertical-align: middle;\n",
              "    }\n",
              "\n",
              "    .dataframe tbody tr th {\n",
              "        vertical-align: top;\n",
              "    }\n",
              "\n",
              "    .dataframe thead th {\n",
              "        text-align: right;\n",
              "    }\n",
              "</style>\n",
              "<table border=\"1\" class=\"dataframe\">\n",
              "  <thead>\n",
              "    <tr style=\"text-align: right;\">\n",
              "      <th></th>\n",
              "      <th>TransactionID</th>\n",
              "      <th>isFraud</th>\n",
              "      <th>TransactionDT</th>\n",
              "      <th>TransactionAmt</th>\n",
              "      <th>ProductCD</th>\n",
              "      <th>card1</th>\n",
              "      <th>card2</th>\n",
              "      <th>card3</th>\n",
              "      <th>card4</th>\n",
              "      <th>card5</th>\n",
              "      <th>...</th>\n",
              "      <th>V330</th>\n",
              "      <th>V331</th>\n",
              "      <th>V332</th>\n",
              "      <th>V333</th>\n",
              "      <th>V334</th>\n",
              "      <th>V335</th>\n",
              "      <th>V336</th>\n",
              "      <th>V337</th>\n",
              "      <th>V338</th>\n",
              "      <th>V339</th>\n",
              "    </tr>\n",
              "  </thead>\n",
              "  <tbody>\n",
              "    <tr>\n",
              "      <th>238046</th>\n",
              "      <td>3225046</td>\n",
              "      <td>0</td>\n",
              "      <td>5614215</td>\n",
              "      <td>25.95</td>\n",
              "      <td>W</td>\n",
              "      <td>7919</td>\n",
              "      <td>194.0</td>\n",
              "      <td>150.0</td>\n",
              "      <td>mastercard</td>\n",
              "      <td>202.0</td>\n",
              "      <td>...</td>\n",
              "      <td>NaN</td>\n",
              "      <td>NaN</td>\n",
              "      <td>NaN</td>\n",
              "      <td>NaN</td>\n",
              "      <td>NaN</td>\n",
              "      <td>NaN</td>\n",
              "      <td>NaN</td>\n",
              "      <td>NaN</td>\n",
              "      <td>NaN</td>\n",
              "      <td>NaN</td>\n",
              "    </tr>\n",
              "    <tr>\n",
              "      <th>490313</th>\n",
              "      <td>3477313</td>\n",
              "      <td>0</td>\n",
              "      <td>12782160</td>\n",
              "      <td>59.00</td>\n",
              "      <td>W</td>\n",
              "      <td>16085</td>\n",
              "      <td>297.0</td>\n",
              "      <td>150.0</td>\n",
              "      <td>visa</td>\n",
              "      <td>166.0</td>\n",
              "      <td>...</td>\n",
              "      <td>NaN</td>\n",
              "      <td>NaN</td>\n",
              "      <td>NaN</td>\n",
              "      <td>NaN</td>\n",
              "      <td>NaN</td>\n",
              "      <td>NaN</td>\n",
              "      <td>NaN</td>\n",
              "      <td>NaN</td>\n",
              "      <td>NaN</td>\n",
              "      <td>NaN</td>\n",
              "    </tr>\n",
              "    <tr>\n",
              "      <th>343959</th>\n",
              "      <td>3330959</td>\n",
              "      <td>0</td>\n",
              "      <td>8471987</td>\n",
              "      <td>226.00</td>\n",
              "      <td>W</td>\n",
              "      <td>7585</td>\n",
              "      <td>553.0</td>\n",
              "      <td>150.0</td>\n",
              "      <td>visa</td>\n",
              "      <td>226.0</td>\n",
              "      <td>...</td>\n",
              "      <td>NaN</td>\n",
              "      <td>NaN</td>\n",
              "      <td>NaN</td>\n",
              "      <td>NaN</td>\n",
              "      <td>NaN</td>\n",
              "      <td>NaN</td>\n",
              "      <td>NaN</td>\n",
              "      <td>NaN</td>\n",
              "      <td>NaN</td>\n",
              "      <td>NaN</td>\n",
              "    </tr>\n",
              "    <tr>\n",
              "      <th>21834</th>\n",
              "      <td>3008834</td>\n",
              "      <td>0</td>\n",
              "      <td>576560</td>\n",
              "      <td>46.50</td>\n",
              "      <td>W</td>\n",
              "      <td>10486</td>\n",
              "      <td>514.0</td>\n",
              "      <td>150.0</td>\n",
              "      <td>mastercard</td>\n",
              "      <td>219.0</td>\n",
              "      <td>...</td>\n",
              "      <td>NaN</td>\n",
              "      <td>NaN</td>\n",
              "      <td>NaN</td>\n",
              "      <td>NaN</td>\n",
              "      <td>NaN</td>\n",
              "      <td>NaN</td>\n",
              "      <td>NaN</td>\n",
              "      <td>NaN</td>\n",
              "      <td>NaN</td>\n",
              "      <td>NaN</td>\n",
              "    </tr>\n",
              "    <tr>\n",
              "      <th>224972</th>\n",
              "      <td>3211972</td>\n",
              "      <td>0</td>\n",
              "      <td>5323650</td>\n",
              "      <td>117.00</td>\n",
              "      <td>W</td>\n",
              "      <td>12556</td>\n",
              "      <td>514.0</td>\n",
              "      <td>150.0</td>\n",
              "      <td>mastercard</td>\n",
              "      <td>224.0</td>\n",
              "      <td>...</td>\n",
              "      <td>NaN</td>\n",
              "      <td>NaN</td>\n",
              "      <td>NaN</td>\n",
              "      <td>NaN</td>\n",
              "      <td>NaN</td>\n",
              "      <td>NaN</td>\n",
              "      <td>NaN</td>\n",
              "      <td>NaN</td>\n",
              "      <td>NaN</td>\n",
              "      <td>NaN</td>\n",
              "    </tr>\n",
              "  </tbody>\n",
              "</table>\n",
              "<p>5 rows × 394 columns</p>\n",
              "</div>\n",
              "      <button class=\"colab-df-convert\" onclick=\"convertToInteractive('df-ee4e72f7-6db2-41b0-92dc-cdcee39eac39')\"\n",
              "              title=\"Convert this dataframe to an interactive table.\"\n",
              "              style=\"display:none;\">\n",
              "        \n",
              "  <svg xmlns=\"http://www.w3.org/2000/svg\" height=\"24px\"viewBox=\"0 0 24 24\"\n",
              "       width=\"24px\">\n",
              "    <path d=\"M0 0h24v24H0V0z\" fill=\"none\"/>\n",
              "    <path d=\"M18.56 5.44l.94 2.06.94-2.06 2.06-.94-2.06-.94-.94-2.06-.94 2.06-2.06.94zm-11 1L8.5 8.5l.94-2.06 2.06-.94-2.06-.94L8.5 2.5l-.94 2.06-2.06.94zm10 10l.94 2.06.94-2.06 2.06-.94-2.06-.94-.94-2.06-.94 2.06-2.06.94z\"/><path d=\"M17.41 7.96l-1.37-1.37c-.4-.4-.92-.59-1.43-.59-.52 0-1.04.2-1.43.59L10.3 9.45l-7.72 7.72c-.78.78-.78 2.05 0 2.83L4 21.41c.39.39.9.59 1.41.59.51 0 1.02-.2 1.41-.59l7.78-7.78 2.81-2.81c.8-.78.8-2.07 0-2.86zM5.41 20L4 18.59l7.72-7.72 1.47 1.35L5.41 20z\"/>\n",
              "  </svg>\n",
              "      </button>\n",
              "      \n",
              "  <style>\n",
              "    .colab-df-container {\n",
              "      display:flex;\n",
              "      flex-wrap:wrap;\n",
              "      gap: 12px;\n",
              "    }\n",
              "\n",
              "    .colab-df-convert {\n",
              "      background-color: #E8F0FE;\n",
              "      border: none;\n",
              "      border-radius: 50%;\n",
              "      cursor: pointer;\n",
              "      display: none;\n",
              "      fill: #1967D2;\n",
              "      height: 32px;\n",
              "      padding: 0 0 0 0;\n",
              "      width: 32px;\n",
              "    }\n",
              "\n",
              "    .colab-df-convert:hover {\n",
              "      background-color: #E2EBFA;\n",
              "      box-shadow: 0px 1px 2px rgba(60, 64, 67, 0.3), 0px 1px 3px 1px rgba(60, 64, 67, 0.15);\n",
              "      fill: #174EA6;\n",
              "    }\n",
              "\n",
              "    [theme=dark] .colab-df-convert {\n",
              "      background-color: #3B4455;\n",
              "      fill: #D2E3FC;\n",
              "    }\n",
              "\n",
              "    [theme=dark] .colab-df-convert:hover {\n",
              "      background-color: #434B5C;\n",
              "      box-shadow: 0px 1px 3px 1px rgba(0, 0, 0, 0.15);\n",
              "      filter: drop-shadow(0px 1px 2px rgba(0, 0, 0, 0.3));\n",
              "      fill: #FFFFFF;\n",
              "    }\n",
              "  </style>\n",
              "\n",
              "      <script>\n",
              "        const buttonEl =\n",
              "          document.querySelector('#df-ee4e72f7-6db2-41b0-92dc-cdcee39eac39 button.colab-df-convert');\n",
              "        buttonEl.style.display =\n",
              "          google.colab.kernel.accessAllowed ? 'block' : 'none';\n",
              "\n",
              "        async function convertToInteractive(key) {\n",
              "          const element = document.querySelector('#df-ee4e72f7-6db2-41b0-92dc-cdcee39eac39');\n",
              "          const dataTable =\n",
              "            await google.colab.kernel.invokeFunction('convertToInteractive',\n",
              "                                                     [key], {});\n",
              "          if (!dataTable) return;\n",
              "\n",
              "          const docLinkHtml = 'Like what you see? Visit the ' +\n",
              "            '<a target=\"_blank\" href=https://colab.research.google.com/notebooks/data_table.ipynb>data table notebook</a>'\n",
              "            + ' to learn more about interactive tables.';\n",
              "          element.innerHTML = '';\n",
              "          dataTable['output_type'] = 'display_data';\n",
              "          await google.colab.output.renderOutput(dataTable, element);\n",
              "          const docLink = document.createElement('div');\n",
              "          docLink.innerHTML = docLinkHtml;\n",
              "          element.appendChild(docLink);\n",
              "        }\n",
              "      </script>\n",
              "    </div>\n",
              "  </div>\n",
              "  "
            ]
          },
          "metadata": {},
          "execution_count": 11
        }
      ]
    },
    {
      "cell_type": "code",
      "source": [
        "# use defined funcs to describe the dataset.\n",
        "df_description(raw_train_trans)"
      ],
      "metadata": {
        "colab": {
          "base_uri": "https://localhost:8080/"
        },
        "id": "k5BoZvHwRd_C",
        "outputId": "a38cfdab-b7f1-404e-c785-a433d09e2d09"
      },
      "execution_count": 12,
      "outputs": [
        {
          "output_type": "stream",
          "name": "stdout",
          "text": [
            "For the DataFrame raw_train_trans:\n",
            "\n",
            "The shape is: (590540, 394)\n",
            "\n",
            "                #_Nans  %_Nans data_type\n",
            "TransactionID        0    0.00     int64\n",
            "isFraud              0    0.00     int64\n",
            "TransactionDT        0    0.00     int64\n",
            "TransactionAmt       0    0.00   float64\n",
            "ProductCD            0    0.00    object\n",
            "...                ...     ...       ...\n",
            "V335            508189   86.05   float64\n",
            "V336            508189   86.05   float64\n",
            "V337            508189   86.05   float64\n",
            "V338            508189   86.05   float64\n",
            "V339            508189   86.05   float64\n",
            "\n",
            "[394 rows x 3 columns] \n",
            "\n"
          ]
        }
      ]
    },
    {
      "cell_type": "markdown",
      "source": [
        "### Clean the datasets"
      ],
      "metadata": {
        "id": "Co1-QB1SJLy9"
      }
    },
    {
      "cell_type": "markdown",
      "source": [
        "#### Define functions to clean the datasets."
      ],
      "metadata": {
        "id": "oiogbvAAJbBO"
      }
    },
    {
      "cell_type": "code",
      "source": [
        "from pandas.core.frame import DataFrame\n",
        "\n",
        "def clean_df(df: DataFrame, \\\n",
        "             cols_drop: list, rows_drop: list, cols_to_category: list):\n",
        "    '''\n",
        "    Return a cleaned df.\n",
        "    '''\n",
        "\n",
        "    cleaned_df = df\n",
        "    cleaned_df = cleaned_df.drop(columns=cols_drop) # drop cols\n",
        "    cleaned_df = cleaned_df.drop(labels=rows_drop, axis=0) # drop rows\n",
        "\n",
        "    for col in cols_to_category: # convert dtypes\n",
        "        if col in cleaned_df.columns:\n",
        "            cleaned_df[col] = cleaned_df[col].astype('category')\n",
        "\n",
        "    return cleaned_df\n",
        "\n",
        "\n",
        "\n",
        "def get_dummies(df: DataFrame, cols: list):\n",
        "    '''\n",
        "    Get the dummy values for the categorical columns.\n",
        "    Append the it to the input df and drop the original cols.\n",
        "\n",
        "    df: data.\n",
        "    cols: the name of the columns need to be converted.\n",
        "    '''\n",
        "\n",
        "    for col in cols:\n",
        "        if col in df.columns:\n",
        "            col_dummies = pd.get_dummies(data=df[col])\n",
        "            df = pd.concat([df, col_dummies], axis=1)\n",
        "            df = df.drop(col, axis=1)\n",
        "\n",
        "    \n",
        "    return df"
      ],
      "metadata": {
        "id": "SliyS13LyJ_V"
      },
      "execution_count": 13,
      "outputs": []
    },
    {
      "cell_type": "markdown",
      "source": [
        "#### Clean 'raw_train_id'\n",
        "\n",
        "\n",
        "\n"
      ],
      "metadata": {
        "id": "bbq8gOTAp61d"
      }
    },
    {
      "cell_type": "markdown",
      "source": [
        "##### Drop cols and rows, Convert data types"
      ],
      "metadata": {
        "id": "bVlEv0K8cPYc"
      }
    },
    {
      "cell_type": "code",
      "source": [
        "### filter out cols ###\n",
        "\n",
        "# density of Nans in cols\n",
        "bin_chart(cols_info_df(raw_train_trans)['%_Nans'], '% of the values in the column are Nans', '# of cols')\n",
        "\n",
        "# filter out the columns with more than 40% Nans.\n",
        "cols_info_id = cols_info_df(raw_train_id)\n",
        "cols_drop_id = cols_info_id[cols_info_id['%_Nans'] > 40]\n",
        "cols_drop_id_list =  cols_drop_id.index.to_list() # list of columns to drop\n",
        "\n",
        "if len(cols_drop_id_list) is not 0:\n",
        "    print('The following columnes has more than 40% of Nan values:\\n{}'.format(cols_drop_id_list))\n",
        "    print('We suggest to drop all these columns in the dataset.')\n",
        "else:\n",
        "     print('We suggest no columns need to be dropped')"
      ],
      "metadata": {
        "colab": {
          "base_uri": "https://localhost:8080/",
          "height": 351
        },
        "id": "SabMtLt3Q-P-",
        "outputId": "6d43a4b1-55d0-4297-b3ba-c58badaf1e3e"
      },
      "execution_count": 14,
      "outputs": [
        {
          "output_type": "display_data",
          "data": {
            "text/plain": [
              "<Figure size 432x288 with 1 Axes>"
            ],
            "image/png": "[encoded data removed]"
          },
          "metadata": {
            "needs_background": "light"
          }
        },
        {
          "output_type": "stream",
          "name": "stdout",
          "text": [
            "The following columnes has more than 40% of Nan values:\n",
            "['id_03', 'id_04', 'id_07', 'id_08', 'id_09', 'id_10', 'id_14', 'id_18', 'id_21', 'id_22', 'id_23', 'id_24', 'id_25', 'id_26', 'id_27', 'id_30', 'id_32', 'id_33', 'id_34']\n",
            "We suggest to drop all these columns in the dataset.\n"
          ]
        }
      ]
    },
    {
      "cell_type": "code",
      "source": [
        "### filter out rows ###\n",
        "\n",
        "df_row_null_id = null_info(raw_train_id, axis=1)\n",
        "\n",
        "# density of Nans in rows\n",
        "bin_chart(df_row_null_id['%_Nans'], '% of the values in the row are Nans', '# of rows')\n",
        "\n",
        "# filter out the rows with more than 50% Nans.\n",
        "rows_drop_id = df_row_null_id[df_row_null_id['%_Nans'] > 50]\n",
        "rows_drop_id_list =  rows_drop_id.index.to_list() # list of rows to drop\n",
        "\n",
        "if len(rows_drop_id_list) is not 0:\n",
        "     print('In {} rows, there are more than 50% of values are null.\\n'.format(len(rows_drop_id_list)))\n",
        "     print('We suggest to drop all these rows in the dataset.')\n",
        "else:\n",
        "     print('We suggest no rows need to be dropped')"
      ],
      "metadata": {
        "colab": {
          "base_uri": "https://localhost:8080/",
          "height": 331
        },
        "id": "4sQxLhMAUELD",
        "outputId": "bf180484-0e37-4ac2-ddb9-d279e21e747b"
      },
      "execution_count": 15,
      "outputs": [
        {
          "output_type": "display_data",
          "data": {
            "text/plain": [
              "<Figure size 432x288 with 1 Axes>"
            ],
            "image/png": "[encoded data removed]"
          },
          "metadata": {
            "needs_background": "light"
          }
        },
        {
          "output_type": "stream",
          "name": "stdout",
          "text": [
            "In 9400 rows, there are more than 50% of values are null.\n",
            "\n",
            "We suggest to drop all these rows in the dataset.\n"
          ]
        }
      ]
    },
    {
      "cell_type": "code",
      "source": [
        "### filter out cols need convert dtypes ###\n",
        "\n",
        "# count the unique values in the col with data type of 'object',\n",
        "# see if it can be converted into 'category' type.\n",
        "cols_obj_id = cols_info_id[cols_info_id['data_type'] == 'object'] # filter out cols with datatype = 'object'\n",
        "\n",
        "cols_obj_id_list = cols_obj_id.index.to_list() # make the col names to a list\n",
        "\n",
        "for col in cols_obj_id_list:\n",
        "     cols_obj_id.loc[col, '#_uniques'] = raw_train_id[col].nunique() # count and append # of uniques\n",
        "\n",
        "print('The datatype of these cols are object:\\n',cols_obj_id,'\\n')\n",
        "# print(cols_obj_id_list)\n",
        "\n",
        "# number of uniques in each cols are much small than the number of rows(140K+),\n",
        "# all the 'object' cols can be considered as categorical cols."
      ],
      "metadata": {
        "colab": {
          "base_uri": "https://localhost:8080/"
        },
        "id": "No-5nO_8x3qT",
        "outputId": "9e70e359-634a-40bc-b6a6-77c74a9fc057"
      },
      "execution_count": 16,
      "outputs": [
        {
          "output_type": "stream",
          "name": "stdout",
          "text": [
            "The datatype of these cols are object:\n",
            "             #_Nans  %_Nans data_type  #_uniques\n",
            "id_12            0    0.00    object        2.0\n",
            "id_15         3248    2.25    object        3.0\n",
            "id_16        14893   10.33    object        2.0\n",
            "id_23       139064   96.42    object        3.0\n",
            "id_27       139064   96.42    object        2.0\n",
            "id_28         3255    2.26    object        2.0\n",
            "id_29         3255    2.26    object        2.0\n",
            "id_30        66668   46.22    object       75.0\n",
            "id_31         3951    2.74    object      130.0\n",
            "id_33        70944   49.19    object      260.0\n",
            "id_34        66428   46.06    object        4.0\n",
            "id_35         3248    2.25    object        2.0\n",
            "id_36         3248    2.25    object        2.0\n",
            "id_37         3248    2.25    object        2.0\n",
            "id_38         3248    2.25    object        2.0\n",
            "DeviceType    3423    2.37    object        2.0\n",
            "DeviceInfo   25567   17.73    object     1786.0 \n",
            "\n"
          ]
        },
        {
          "output_type": "stream",
          "name": "stderr",
          "text": [
            "/usr/local/lib/python3.7/dist-packages/pandas/core/indexing.py:1684: SettingWithCopyWarning: \n",
            "A value is trying to be set on a copy of a slice from a DataFrame.\n",
            "Try using .loc[row_indexer,col_indexer] = value instead\n",
            "\n",
            "See the caveats in the documentation: https://pandas.pydata.org/pandas-docs/stable/user_guide/indexing.html#returning-a-view-versus-a-copy\n",
            "  self.obj[key] = infer_fill_value(value)\n",
            "/usr/local/lib/python3.7/dist-packages/pandas/core/indexing.py:1817: SettingWithCopyWarning: \n",
            "A value is trying to be set on a copy of a slice from a DataFrame.\n",
            "Try using .loc[row_indexer,col_indexer] = value instead\n",
            "\n",
            "See the caveats in the documentation: https://pandas.pydata.org/pandas-docs/stable/user_guide/indexing.html#returning-a-view-versus-a-copy\n",
            "  self._setitem_single_column(loc, value, pi)\n"
          ]
        }
      ]
    },
    {
      "cell_type": "code",
      "source": [
        "### clean dataset with info and analysis above ###\n",
        "\n",
        "clean_train_id = clean_df(raw_train_id, cols_drop_id_list, rows_drop_id_list, cols_obj_id_list) # drop cols and rows\n",
        "\n",
        "# clean_train_id = get_dummies(clean_train_id, cols_obj_id_list) # get dummies\n"
      ],
      "metadata": {
        "id": "bBrpr3DuA_o7"
      },
      "execution_count": 17,
      "outputs": []
    },
    {
      "cell_type": "code",
      "source": [
        "# Plot how the nan values looks after dropping part of the rows and cols.\n",
        "msno.matrix(clean_train_id)"
      ],
      "metadata": {
        "colab": {
          "base_uri": "https://localhost:8080/",
          "height": 492
        },
        "id": "iaIhV03SBY6f",
        "outputId": "a7e2b6e6-6d4b-471a-c310-07bc45d075d5"
      },
      "execution_count": 18,
      "outputs": [
        {
          "output_type": "execute_result",
          "data": {
            "text/plain": [
              "<matplotlib.axes._subplots.AxesSubplot at 0x7fb26758bb50>"
            ]
          },
          "metadata": {},
          "execution_count": 18
        },
        {
          "output_type": "display_data",
          "data": {
            "text/plain": [
              "<Figure size 1800x720 with 2 Axes>"
            ],
            "image/png": "[encoded data removed]"
          },
          "metadata": {
            "needs_background": "light"
          }
        }
      ]
    },
    {
      "cell_type": "code",
      "source": [
        "# Plot the distribution of percentage of nan values after dropping part of the cols and rows.\n",
        "\n",
        "# density of Nans in cols\n",
        "bin_chart(null_info(clean_train_id, axis=0)['%_Nans'], '% of the values in the column are Nans', '# of cols')\n",
        "\n",
        "# density of Nans in rows\n",
        "bin_chart(null_info(clean_train_id, axis=1)['%_Nans'], '% of the values in the row are Nans', '# of rows')"
      ],
      "metadata": {
        "colab": {
          "base_uri": "https://localhost:8080/",
          "height": 541
        },
        "id": "m9FWx-LbWhtR",
        "outputId": "635dcd60-c670-4960-8542-52b7d88ee59d"
      },
      "execution_count": 19,
      "outputs": [
        {
          "output_type": "display_data",
          "data": {
            "text/plain": [
              "<Figure size 432x288 with 1 Axes>"
            ],
            "image/png": "[encoded data removed]"
          },
          "metadata": {
            "needs_background": "light"
          }
        },
        {
          "output_type": "display_data",
          "data": {
            "text/plain": [
              "<Figure size 432x288 with 1 Axes>"
            ],
            "image/png": "[encoded data removed]"
          },
          "metadata": {
            "needs_background": "light"
          }
        }
      ]
    },
    {
      "cell_type": "markdown",
      "source": [
        "#### Clean 'raw_train_trans'.\n",
        "\n",
        "\n",
        "\n"
      ],
      "metadata": {
        "id": "nJF0-byrUDOs"
      }
    },
    {
      "cell_type": "code",
      "source": [
        "### filter out cols ###\n",
        "\n",
        "# density of Nans in cols\n",
        "bin_chart(null_info(raw_train_trans, axis=0)['%_Nans'], '% of the values in the column are Nans', '# of cols')\n",
        "\n",
        "# filter out the columns with more than 60% Nans.\n",
        "cols_info_trans = cols_info_df(raw_train_trans)\n",
        "cols_drop_trans = cols_info_trans[cols_info_trans['%_Nans'] > 60]\n",
        "cols_drop_trans_list =  cols_drop_trans.index.to_list() # list of columns to drop\n",
        "\n",
        "if len(cols_drop_trans_list) is not 0:\n",
        "    print('In {} columns, there are more than 60% of values are null.\\n'.format(len(cols_drop_trans_list)))\n",
        "    print('The following columnes has more than 60% of Nan values:\\n{}'.format(cols_drop_trans_list))\n",
        "    print('We suggest to drop all these columns in the dataset.')\n",
        "else:\n",
        "    print('We suggest no columns need to be dropped')\n",
        "\n",
        "\n"
      ],
      "metadata": {
        "colab": {
          "base_uri": "https://localhost:8080/",
          "height": 385
        },
        "outputId": "cece4bd0-1f88-4394-9b78-e0ff0bd4ea77",
        "id": "OFuOEnlVUYD7"
      },
      "execution_count": 20,
      "outputs": [
        {
          "output_type": "display_data",
          "data": {
            "text/plain": [
              "<Figure size 432x288 with 1 Axes>"
            ],
            "image/png": "[encoded data removed]"
          },
          "metadata": {
            "needs_background": "light"
          }
        },
        {
          "output_type": "stream",
          "name": "stdout",
          "text": [
            "In 168 columns, there are more than 60% of values are null.\n",
            "\n",
            "The following columnes has more than 60% of Nan values:\n",
            "['dist2', 'R_emaildomain', 'D6', 'D7', 'D8', 'D9', 'D12', 'D13', 'D14', 'V138', 'V139', 'V140', 'V141', 'V142', 'V143', 'V144', 'V145', 'V146', 'V147', 'V148', 'V149', 'V150', 'V151', 'V152', 'V153', 'V154', 'V155', 'V156', 'V157', 'V158', 'V159', 'V160', 'V161', 'V162', 'V163', 'V164', 'V165', 'V166', 'V167', 'V168', 'V169', 'V170', 'V171', 'V172', 'V173', 'V174', 'V175', 'V176', 'V177', 'V178', 'V179', 'V180', 'V181', 'V182', 'V183', 'V184', 'V185', 'V186', 'V187', 'V188', 'V189', 'V190', 'V191', 'V192', 'V193', 'V194', 'V195', 'V196', 'V197', 'V198', 'V199', 'V200', 'V201', 'V202', 'V203', 'V204', 'V205', 'V206', 'V207', 'V208', 'V209', 'V210', 'V211', 'V212', 'V213', 'V214', 'V215', 'V216', 'V217', 'V218', 'V219', 'V220', 'V221', 'V222', 'V223', 'V224', 'V225', 'V226', 'V227', 'V228', 'V229', 'V230', 'V231', 'V232', 'V233', 'V234', 'V235', 'V236', 'V237', 'V238', 'V239', 'V240', 'V241', 'V242', 'V243', 'V244', 'V245', 'V246', 'V247', 'V248', 'V249', 'V250', 'V251', 'V252', 'V253', 'V254', 'V255', 'V256', 'V257', 'V258', 'V259', 'V260', 'V261', 'V262', 'V263', 'V264', 'V265', 'V266', 'V267', 'V268', 'V269', 'V270', 'V271', 'V272', 'V273', 'V274', 'V275', 'V276', 'V277', 'V278', 'V322', 'V323', 'V324', 'V325', 'V326', 'V327', 'V328', 'V329', 'V330', 'V331', 'V332', 'V333', 'V334', 'V335', 'V336', 'V337', 'V338', 'V339']\n",
            "We suggest to drop all these columns in the dataset.\n"
          ]
        }
      ]
    },
    {
      "cell_type": "code",
      "source": [
        "cols_drop_trans_list[:10]"
      ],
      "metadata": {
        "colab": {
          "base_uri": "https://localhost:8080/"
        },
        "id": "Wo9y-O8wZZca",
        "outputId": "f6a3bf72-4f1b-4599-cfc5-304f66923297"
      },
      "execution_count": 21,
      "outputs": [
        {
          "output_type": "execute_result",
          "data": {
            "text/plain": [
              "['dist2', 'R_emaildomain', 'D6', 'D7', 'D8', 'D9', 'D12', 'D13', 'D14', 'V138']"
            ]
          },
          "metadata": {},
          "execution_count": 21
        }
      ]
    },
    {
      "cell_type": "markdown",
      "source": [
        "##### *DISCUSSION on columns with high % of null should be dropped in 'raw_train_trans':<br>*\n",
        "\n",
        "in `raw_train_trans`, there are **168** cols which contains more **60%** of Nans:\n",
        "\n",
        "\n",
        "1. `dist2`: distances between (not limited) billing address, mailing address, zip code, IP address, phone area, etc.<br>\n",
        ">Since 93% of the values are null, and filling Nans with an arbitrary value is meaningless, this column could be **dropped**.\n",
        "\n",
        "2. `R_emaildomain`: recipient email domain. Certain transactions don't need recipient, so R_emaildomain is null.\n",
        ">From the data description above, we can infer that the null values acturally indicates a certain kind of transactions.<br>\n",
        "This col will be **kept**, and **fill the Nan with 0**.\n",
        "\n",
        "\n",
        "3. `CXX & Dxx`:   timedelta, such as days between previous transaction, etc.\n",
        ">This col will be **kept**, and **fill with most frequent value in the col**.\n",
        "\n",
        "4. `Vxxx`:  The col name starts with letter V are Vesta engineered rich features, including ranking, counting, and other entity relations.<br>\n",
        "They are designed to be so.<br>\n",
        ">All these columns should be **kept**, and **fill the Nan with some value never shows up in the column, like -1**.\n",
        "\n",
        "\n",
        "\n",
        "\n"
      ],
      "metadata": {
        "id": "Bv2jajaqcFS2"
      }
    },
    {
      "cell_type": "code",
      "source": [
        "# With the discussion above, \n",
        "# Updated 'cols_drop_trans_list'.\n",
        "cols_drop_trans_list = ['dist2']"
      ],
      "metadata": {
        "id": "5oPu-FF7Zc0F"
      },
      "execution_count": 22,
      "outputs": []
    },
    {
      "cell_type": "code",
      "source": [
        "### filter out cols ###\n",
        "\n",
        "# will do it after fill all the Nans in cols."
      ],
      "metadata": {
        "id": "8AOVaH9hoYS2"
      },
      "execution_count": 23,
      "outputs": []
    },
    {
      "cell_type": "code",
      "source": [
        "### filter out cols need convert dtypes ###\n",
        "\n",
        "# count the unique values in the col with data type of 'object',\n",
        "# see if it can be converted into 'category' type.\n",
        "cols_obj_trans = cols_info_trans[cols_info_trans['data_type'] == 'object'] # filter out cols with datatype = 'object'\n",
        "\n",
        "cols_obj_trans_list = cols_obj_trans.index.to_list() # make the col names to a list\n",
        "\n",
        "for col in cols_obj_trans_list:\n",
        "    cols_obj_trans.loc[col, '#_uniques'] = raw_train_trans[col].nunique() # count and append # of uniques\n",
        "\n",
        "print(cols_obj_trans)\n",
        "\n",
        "print('The features of #_uniques:{}\\n'.format(cols_obj_trans['#_uniques'].describe()))\n",
        "\n",
        "# Since the max value of #_uniques is 60, and we have more than 540k records, \n",
        "# all the 'object' cols can be considered as categorical cols."
      ],
      "metadata": {
        "colab": {
          "base_uri": "https://localhost:8080/"
        },
        "id": "aXZX7TvfVPyb",
        "outputId": "fcff0e0b-8840-438c-d548-35287b1c81a8"
      },
      "execution_count": 24,
      "outputs": [
        {
          "output_type": "stream",
          "name": "stderr",
          "text": [
            "/usr/local/lib/python3.7/dist-packages/pandas/core/indexing.py:1684: SettingWithCopyWarning: \n",
            "A value is trying to be set on a copy of a slice from a DataFrame.\n",
            "Try using .loc[row_indexer,col_indexer] = value instead\n",
            "\n",
            "See the caveats in the documentation: https://pandas.pydata.org/pandas-docs/stable/user_guide/indexing.html#returning-a-view-versus-a-copy\n",
            "  self.obj[key] = infer_fill_value(value)\n",
            "/usr/local/lib/python3.7/dist-packages/pandas/core/indexing.py:1817: SettingWithCopyWarning: \n",
            "A value is trying to be set on a copy of a slice from a DataFrame.\n",
            "Try using .loc[row_indexer,col_indexer] = value instead\n",
            "\n",
            "See the caveats in the documentation: https://pandas.pydata.org/pandas-docs/stable/user_guide/indexing.html#returning-a-view-versus-a-copy\n",
            "  self._setitem_single_column(loc, value, pi)\n"
          ]
        },
        {
          "output_type": "stream",
          "name": "stdout",
          "text": [
            "               #_Nans  %_Nans data_type  #_uniques\n",
            "ProductCD           0    0.00    object        5.0\n",
            "card4            1577    0.27    object        4.0\n",
            "card6            1571    0.27    object        4.0\n",
            "P_emaildomain   94456   15.99    object       59.0\n",
            "R_emaildomain  453249   76.75    object       60.0\n",
            "M1             271100   45.91    object        2.0\n",
            "M2             271100   45.91    object        2.0\n",
            "M3             271100   45.91    object        2.0\n",
            "M4             281444   47.66    object        3.0\n",
            "M5             350482   59.35    object        2.0\n",
            "M6             169360   28.68    object        2.0\n",
            "M7             346265   58.64    object        2.0\n",
            "M8             346252   58.63    object        2.0\n",
            "M9             346252   58.63    object        2.0\n",
            "The features of #_uniques:count    14.000000\n",
            "mean     10.785714\n",
            "std      20.662782\n",
            "min       2.000000\n",
            "25%       2.000000\n",
            "50%       2.000000\n",
            "75%       4.000000\n",
            "max      60.000000\n",
            "Name: #_uniques, dtype: float64\n",
            "\n"
          ]
        }
      ]
    },
    {
      "cell_type": "code",
      "source": [
        "clean_train_trans = clean_df(raw_train_trans, cols_drop_trans_list, [], cols_obj_trans_list) # drop cols\n",
        "\n",
        "clean_train_trans"
      ],
      "metadata": {
        "colab": {
          "base_uri": "https://localhost:8080/",
          "height": 488
        },
        "id": "FzEQzhcRVYs3",
        "outputId": "6bf3a87b-b122-4171-c2d7-c52adf130c50"
      },
      "execution_count": 26,
      "outputs": [
        {
          "output_type": "execute_result",
          "data": {
            "text/plain": [
              "        TransactionID  isFraud  TransactionDT  TransactionAmt ProductCD  \\\n",
              "0             2987000        0          86400           68.50         W   \n",
              "1             2987001        0          86401           29.00         W   \n",
              "2             2987002        0          86469           59.00         W   \n",
              "3             2987003        0          86499           50.00         W   \n",
              "4             2987004        0          86506           50.00         H   \n",
              "...               ...      ...            ...             ...       ...   \n",
              "590535        3577535        0       15811047           49.00         W   \n",
              "590536        3577536        0       15811049           39.50         W   \n",
              "590537        3577537        0       15811079           30.95         W   \n",
              "590538        3577538        0       15811088          117.00         W   \n",
              "590539        3577539        0       15811131          279.95         W   \n",
              "\n",
              "        card1  card2  card3       card4  card5  ... V330  V331  V332  V333  \\\n",
              "0       13926    NaN  150.0    discover  142.0  ...  NaN   NaN   NaN   NaN   \n",
              "1        2755  404.0  150.0  mastercard  102.0  ...  NaN   NaN   NaN   NaN   \n",
              "2        4663  490.0  150.0        visa  166.0  ...  NaN   NaN   NaN   NaN   \n",
              "3       18132  567.0  150.0  mastercard  117.0  ...  NaN   NaN   NaN   NaN   \n",
              "4        4497  514.0  150.0  mastercard  102.0  ...  0.0   0.0   0.0   0.0   \n",
              "...       ...    ...    ...         ...    ...  ...  ...   ...   ...   ...   \n",
              "590535   6550    NaN  150.0        visa  226.0  ...  NaN   NaN   NaN   NaN   \n",
              "590536  10444  225.0  150.0  mastercard  224.0  ...  NaN   NaN   NaN   NaN   \n",
              "590537  12037  595.0  150.0  mastercard  224.0  ...  NaN   NaN   NaN   NaN   \n",
              "590538   7826  481.0  150.0  mastercard  224.0  ...  NaN   NaN   NaN   NaN   \n",
              "590539  15066  170.0  150.0  mastercard  102.0  ...  NaN   NaN   NaN   NaN   \n",
              "\n",
              "       V334 V335  V336  V337  V338  V339  \n",
              "0       NaN  NaN   NaN   NaN   NaN   NaN  \n",
              "1       NaN  NaN   NaN   NaN   NaN   NaN  \n",
              "2       NaN  NaN   NaN   NaN   NaN   NaN  \n",
              "3       NaN  NaN   NaN   NaN   NaN   NaN  \n",
              "4       0.0  0.0   0.0   0.0   0.0   0.0  \n",
              "...     ...  ...   ...   ...   ...   ...  \n",
              "590535  NaN  NaN   NaN   NaN   NaN   NaN  \n",
              "590536  NaN  NaN   NaN   NaN   NaN   NaN  \n",
              "590537  NaN  NaN   NaN   NaN   NaN   NaN  \n",
              "590538  NaN  NaN   NaN   NaN   NaN   NaN  \n",
              "590539  NaN  NaN   NaN   NaN   NaN   NaN  \n",
              "\n",
              "[590540 rows x 393 columns]"
            ],
            "text/html": [
              "\n",
              "  <div id=\"df-5afb68e7-d3ca-4dd1-8ae7-a0f17835d000\">\n",
              "    <div class=\"colab-df-container\">\n",
              "      <div>\n",
              "<style scoped>\n",
              "    .dataframe tbody tr th:only-of-type {\n",
              "        vertical-align: middle;\n",
              "    }\n",
              "\n",
              "    .dataframe tbody tr th {\n",
              "        vertical-align: top;\n",
              "    }\n",
              "\n",
              "    .dataframe thead th {\n",
              "        text-align: right;\n",
              "    }\n",
              "</style>\n",
              "<table border=\"1\" class=\"dataframe\">\n",
              "  <thead>\n",
              "    <tr style=\"text-align: right;\">\n",
              "      <th></th>\n",
              "      <th>TransactionID</th>\n",
              "      <th>isFraud</th>\n",
              "      <th>TransactionDT</th>\n",
              "      <th>TransactionAmt</th>\n",
              "      <th>ProductCD</th>\n",
              "      <th>card1</th>\n",
              "      <th>card2</th>\n",
              "      <th>card3</th>\n",
              "      <th>card4</th>\n",
              "      <th>card5</th>\n",
              "      <th>...</th>\n",
              "      <th>V330</th>\n",
              "      <th>V331</th>\n",
              "      <th>V332</th>\n",
              "      <th>V333</th>\n",
              "      <th>V334</th>\n",
              "      <th>V335</th>\n",
              "      <th>V336</th>\n",
              "      <th>V337</th>\n",
              "      <th>V338</th>\n",
              "      <th>V339</th>\n",
              "    </tr>\n",
              "  </thead>\n",
              "  <tbody>\n",
              "    <tr>\n",
              "      <th>0</th>\n",
              "      <td>2987000</td>\n",
              "      <td>0</td>\n",
              "      <td>86400</td>\n",
              "      <td>68.50</td>\n",
              "      <td>W</td>\n",
              "      <td>13926</td>\n",
              "      <td>NaN</td>\n",
              "      <td>150.0</td>\n",
              "      <td>discover</td>\n",
              "      <td>142.0</td>\n",
              "      <td>...</td>\n",
              "      <td>NaN</td>\n",
              "      <td>NaN</td>\n",
              "      <td>NaN</td>\n",
              "      <td>NaN</td>\n",
              "      <td>NaN</td>\n",
              "      <td>NaN</td>\n",
              "      <td>NaN</td>\n",
              "      <td>NaN</td>\n",
              "      <td>NaN</td>\n",
              "      <td>NaN</td>\n",
              "    </tr>\n",
              "    <tr>\n",
              "      <th>1</th>\n",
              "      <td>2987001</td>\n",
              "      <td>0</td>\n",
              "      <td>86401</td>\n",
              "      <td>29.00</td>\n",
              "      <td>W</td>\n",
              "      <td>2755</td>\n",
              "      <td>404.0</td>\n",
              "      <td>150.0</td>\n",
              "      <td>mastercard</td>\n",
              "      <td>102.0</td>\n",
              "      <td>...</td>\n",
              "      <td>NaN</td>\n",
              "      <td>NaN</td>\n",
              "      <td>NaN</td>\n",
              "      <td>NaN</td>\n",
              "      <td>NaN</td>\n",
              "      <td>NaN</td>\n",
              "      <td>NaN</td>\n",
              "      <td>NaN</td>\n",
              "      <td>NaN</td>\n",
              "      <td>NaN</td>\n",
              "    </tr>\n",
              "    <tr>\n",
              "      <th>2</th>\n",
              "      <td>2987002</td>\n",
              "      <td>0</td>\n",
              "      <td>86469</td>\n",
              "      <td>59.00</td>\n",
              "      <td>W</td>\n",
              "      <td>4663</td>\n",
              "      <td>490.0</td>\n",
              "      <td>150.0</td>\n",
              "      <td>visa</td>\n",
              "      <td>166.0</td>\n",
              "      <td>...</td>\n",
              "      <td>NaN</td>\n",
              "      <td>NaN</td>\n",
              "      <td>NaN</td>\n",
              "      <td>NaN</td>\n",
              "      <td>NaN</td>\n",
              "      <td>NaN</td>\n",
              "      <td>NaN</td>\n",
              "      <td>NaN</td>\n",
              "      <td>NaN</td>\n",
              "      <td>NaN</td>\n",
              "    </tr>\n",
              "    <tr>\n",
              "      <th>3</th>\n",
              "      <td>2987003</td>\n",
              "      <td>0</td>\n",
              "      <td>86499</td>\n",
              "      <td>50.00</td>\n",
              "      <td>W</td>\n",
              "      <td>18132</td>\n",
              "      <td>567.0</td>\n",
              "      <td>150.0</td>\n",
              "      <td>mastercard</td>\n",
              "      <td>117.0</td>\n",
              "      <td>...</td>\n",
              "      <td>NaN</td>\n",
              "      <td>NaN</td>\n",
              "      <td>NaN</td>\n",
              "      <td>NaN</td>\n",
              "      <td>NaN</td>\n",
              "      <td>NaN</td>\n",
              "      <td>NaN</td>\n",
              "      <td>NaN</td>\n",
              "      <td>NaN</td>\n",
              "      <td>NaN</td>\n",
              "    </tr>\n",
              "    <tr>\n",
              "      <th>4</th>\n",
              "      <td>2987004</td>\n",
              "      <td>0</td>\n",
              "      <td>86506</td>\n",
              "      <td>50.00</td>\n",
              "      <td>H</td>\n",
              "      <td>4497</td>\n",
              "      <td>514.0</td>\n",
              "      <td>150.0</td>\n",
              "      <td>mastercard</td>\n",
              "      <td>102.0</td>\n",
              "      <td>...</td>\n",
              "      <td>0.0</td>\n",
              "      <td>0.0</td>\n",
              "      <td>0.0</td>\n",
              "      <td>0.0</td>\n",
              "      <td>0.0</td>\n",
              "      <td>0.0</td>\n",
              "      <td>0.0</td>\n",
              "      <td>0.0</td>\n",
              "      <td>0.0</td>\n",
              "      <td>0.0</td>\n",
              "    </tr>\n",
              "    <tr>\n",
              "      <th>...</th>\n",
              "      <td>...</td>\n",
              "      <td>...</td>\n",
              "      <td>...</td>\n",
              "      <td>...</td>\n",
              "      <td>...</td>\n",
              "      <td>...</td>\n",
              "      <td>...</td>\n",
              "      <td>...</td>\n",
              "      <td>...</td>\n",
              "      <td>...</td>\n",
              "      <td>...</td>\n",
              "      <td>...</td>\n",
              "      <td>...</td>\n",
              "      <td>...</td>\n",
              "      <td>...</td>\n",
              "      <td>...</td>\n",
              "      <td>...</td>\n",
              "      <td>...</td>\n",
              "      <td>...</td>\n",
              "      <td>...</td>\n",
              "      <td>...</td>\n",
              "    </tr>\n",
              "    <tr>\n",
              "      <th>590535</th>\n",
              "      <td>3577535</td>\n",
              "      <td>0</td>\n",
              "      <td>15811047</td>\n",
              "      <td>49.00</td>\n",
              "      <td>W</td>\n",
              "      <td>6550</td>\n",
              "      <td>NaN</td>\n",
              "      <td>150.0</td>\n",
              "      <td>visa</td>\n",
              "      <td>226.0</td>\n",
              "      <td>...</td>\n",
              "      <td>NaN</td>\n",
              "      <td>NaN</td>\n",
              "      <td>NaN</td>\n",
              "      <td>NaN</td>\n",
              "      <td>NaN</td>\n",
              "      <td>NaN</td>\n",
              "      <td>NaN</td>\n",
              "      <td>NaN</td>\n",
              "      <td>NaN</td>\n",
              "      <td>NaN</td>\n",
              "    </tr>\n",
              "    <tr>\n",
              "      <th>590536</th>\n",
              "      <td>3577536</td>\n",
              "      <td>0</td>\n",
              "      <td>15811049</td>\n",
              "      <td>39.50</td>\n",
              "      <td>W</td>\n",
              "      <td>10444</td>\n",
              "      <td>225.0</td>\n",
              "      <td>150.0</td>\n",
              "      <td>mastercard</td>\n",
              "      <td>224.0</td>\n",
              "      <td>...</td>\n",
              "      <td>NaN</td>\n",
              "      <td>NaN</td>\n",
              "      <td>NaN</td>\n",
              "      <td>NaN</td>\n",
              "      <td>NaN</td>\n",
              "      <td>NaN</td>\n",
              "      <td>NaN</td>\n",
              "      <td>NaN</td>\n",
              "      <td>NaN</td>\n",
              "      <td>NaN</td>\n",
              "    </tr>\n",
              "    <tr>\n",
              "      <th>590537</th>\n",
              "      <td>3577537</td>\n",
              "      <td>0</td>\n",
              "      <td>15811079</td>\n",
              "      <td>30.95</td>\n",
              "      <td>W</td>\n",
              "      <td>12037</td>\n",
              "      <td>595.0</td>\n",
              "      <td>150.0</td>\n",
              "      <td>mastercard</td>\n",
              "      <td>224.0</td>\n",
              "      <td>...</td>\n",
              "      <td>NaN</td>\n",
              "      <td>NaN</td>\n",
              "      <td>NaN</td>\n",
              "      <td>NaN</td>\n",
              "      <td>NaN</td>\n",
              "      <td>NaN</td>\n",
              "      <td>NaN</td>\n",
              "      <td>NaN</td>\n",
              "      <td>NaN</td>\n",
              "      <td>NaN</td>\n",
              "    </tr>\n",
              "    <tr>\n",
              "      <th>590538</th>\n",
              "      <td>3577538</td>\n",
              "      <td>0</td>\n",
              "      <td>15811088</td>\n",
              "      <td>117.00</td>\n",
              "      <td>W</td>\n",
              "      <td>7826</td>\n",
              "      <td>481.0</td>\n",
              "      <td>150.0</td>\n",
              "      <td>mastercard</td>\n",
              "      <td>224.0</td>\n",
              "      <td>...</td>\n",
              "      <td>NaN</td>\n",
              "      <td>NaN</td>\n",
              "      <td>NaN</td>\n",
              "      <td>NaN</td>\n",
              "      <td>NaN</td>\n",
              "      <td>NaN</td>\n",
              "      <td>NaN</td>\n",
              "      <td>NaN</td>\n",
              "      <td>NaN</td>\n",
              "      <td>NaN</td>\n",
              "    </tr>\n",
              "    <tr>\n",
              "      <th>590539</th>\n",
              "      <td>3577539</td>\n",
              "      <td>0</td>\n",
              "      <td>15811131</td>\n",
              "      <td>279.95</td>\n",
              "      <td>W</td>\n",
              "      <td>15066</td>\n",
              "      <td>170.0</td>\n",
              "      <td>150.0</td>\n",
              "      <td>mastercard</td>\n",
              "      <td>102.0</td>\n",
              "      <td>...</td>\n",
              "      <td>NaN</td>\n",
              "      <td>NaN</td>\n",
              "      <td>NaN</td>\n",
              "      <td>NaN</td>\n",
              "      <td>NaN</td>\n",
              "      <td>NaN</td>\n",
              "      <td>NaN</td>\n",
              "      <td>NaN</td>\n",
              "      <td>NaN</td>\n",
              "      <td>NaN</td>\n",
              "    </tr>\n",
              "  </tbody>\n",
              "</table>\n",
              "<p>590540 rows × 393 columns</p>\n",
              "</div>\n",
              "      <button class=\"colab-df-convert\" onclick=\"convertToInteractive('df-5afb68e7-d3ca-4dd1-8ae7-a0f17835d000')\"\n",
              "              title=\"Convert this dataframe to an interactive table.\"\n",
              "              style=\"display:none;\">\n",
              "        \n",
              "  <svg xmlns=\"http://www.w3.org/2000/svg\" height=\"24px\"viewBox=\"0 0 24 24\"\n",
              "       width=\"24px\">\n",
              "    <path d=\"M0 0h24v24H0V0z\" fill=\"none\"/>\n",
              "    <path d=\"M18.56 5.44l.94 2.06.94-2.06 2.06-.94-2.06-.94-.94-2.06-.94 2.06-2.06.94zm-11 1L8.5 8.5l.94-2.06 2.06-.94-2.06-.94L8.5 2.5l-.94 2.06-2.06.94zm10 10l.94 2.06.94-2.06 2.06-.94-2.06-.94-.94-2.06-.94 2.06-2.06.94z\"/><path d=\"M17.41 7.96l-1.37-1.37c-.4-.4-.92-.59-1.43-.59-.52 0-1.04.2-1.43.59L10.3 9.45l-7.72 7.72c-.78.78-.78 2.05 0 2.83L4 21.41c.39.39.9.59 1.41.59.51 0 1.02-.2 1.41-.59l7.78-7.78 2.81-2.81c.8-.78.8-2.07 0-2.86zM5.41 20L4 18.59l7.72-7.72 1.47 1.35L5.41 20z\"/>\n",
              "  </svg>\n",
              "      </button>\n",
              "      \n",
              "  <style>\n",
              "    .colab-df-container {\n",
              "      display:flex;\n",
              "      flex-wrap:wrap;\n",
              "      gap: 12px;\n",
              "    }\n",
              "\n",
              "    .colab-df-convert {\n",
              "      background-color: #E8F0FE;\n",
              "      border: none;\n",
              "      border-radius: 50%;\n",
              "      cursor: pointer;\n",
              "      display: none;\n",
              "      fill: #1967D2;\n",
              "      height: 32px;\n",
              "      padding: 0 0 0 0;\n",
              "      width: 32px;\n",
              "    }\n",
              "\n",
              "    .colab-df-convert:hover {\n",
              "      background-color: #E2EBFA;\n",
              "      box-shadow: 0px 1px 2px rgba(60, 64, 67, 0.3), 0px 1px 3px 1px rgba(60, 64, 67, 0.15);\n",
              "      fill: #174EA6;\n",
              "    }\n",
              "\n",
              "    [theme=dark] .colab-df-convert {\n",
              "      background-color: #3B4455;\n",
              "      fill: #D2E3FC;\n",
              "    }\n",
              "\n",
              "    [theme=dark] .colab-df-convert:hover {\n",
              "      background-color: #434B5C;\n",
              "      box-shadow: 0px 1px 3px 1px rgba(0, 0, 0, 0.15);\n",
              "      filter: drop-shadow(0px 1px 2px rgba(0, 0, 0, 0.3));\n",
              "      fill: #FFFFFF;\n",
              "    }\n",
              "  </style>\n",
              "\n",
              "      <script>\n",
              "        const buttonEl =\n",
              "          document.querySelector('#df-5afb68e7-d3ca-4dd1-8ae7-a0f17835d000 button.colab-df-convert');\n",
              "        buttonEl.style.display =\n",
              "          google.colab.kernel.accessAllowed ? 'block' : 'none';\n",
              "\n",
              "        async function convertToInteractive(key) {\n",
              "          const element = document.querySelector('#df-5afb68e7-d3ca-4dd1-8ae7-a0f17835d000');\n",
              "          const dataTable =\n",
              "            await google.colab.kernel.invokeFunction('convertToInteractive',\n",
              "                                                     [key], {});\n",
              "          if (!dataTable) return;\n",
              "\n",
              "          const docLinkHtml = 'Like what you see? Visit the ' +\n",
              "            '<a target=\"_blank\" href=https://colab.research.google.com/notebooks/data_table.ipynb>data table notebook</a>'\n",
              "            + ' to learn more about interactive tables.';\n",
              "          element.innerHTML = '';\n",
              "          dataTable['output_type'] = 'display_data';\n",
              "          await google.colab.output.renderOutput(dataTable, element);\n",
              "          const docLink = document.createElement('div');\n",
              "          docLink.innerHTML = docLinkHtml;\n",
              "          element.appendChild(docLink);\n",
              "        }\n",
              "      </script>\n",
              "    </div>\n",
              "  </div>\n",
              "  "
            ]
          },
          "metadata": {},
          "execution_count": 26
        }
      ]
    },
    {
      "cell_type": "markdown",
      "source": [
        "#### Write 'clean_train_id' and 'clean_train_trans' to .csv\n"
      ],
      "metadata": {
        "id": "bQP57tKcuXhp"
      }
    },
    {
      "cell_type": "code",
      "source": [
        "clean_train_id.to_csv('clean_train_id.csv')\n",
        "!cp clean_train_id.csv \"drive/MyDrive/Capstone/Data/\"\n",
        "\n",
        "clean_train_trans.to_csv('clean_train_trans.csv')\n",
        "!cp clean_train_trans.csv \"drive/MyDrive/Capstone/Data/\""
      ],
      "metadata": {
        "id": "FBhnagrZsGAI"
      },
      "execution_count": 27,
      "outputs": []
    }
  ]
}